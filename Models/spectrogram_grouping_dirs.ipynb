{
  "nbformat": 4,
  "nbformat_minor": 0,
  "metadata": {
    "colab": {
      "name": "spectrogram_grouping_dirs.ipynb",
      "provenance": [],
      "authorship_tag": "ABX9TyNrd2UgRyfLflu/HpHzrIrw"
    },
    "kernelspec": {
      "name": "python3",
      "display_name": "Python 3"
    },
    "language_info": {
      "name": "python"
    }
  },
  "cells": [
    {
      "cell_type": "code",
      "metadata": {
        "id": "FQXRkM8v8wE2"
      },
      "source": [
        "import shutil\n",
        "import pandas as pd\n",
        "import os"
      ],
      "execution_count": 12,
      "outputs": []
    },
    {
      "cell_type": "code",
      "metadata": {
        "colab": {
          "base_uri": "https://localhost:8080/",
          "height": 399
        },
        "id": "n-Fr3Xsh7snP",
        "outputId": "ee976d70-f5df-4f7f-ceec-41c220f702f0"
      },
      "source": [
        "labels = pd.read_csv('/content/cos_labels_fn.csv')\n",
        "labels"
      ],
      "execution_count": 25,
      "outputs": [
        {
          "output_type": "execute_result",
          "data": {
            "text/html": [
              "<div>\n",
              "<style scoped>\n",
              "    .dataframe tbody tr th:only-of-type {\n",
              "        vertical-align: middle;\n",
              "    }\n",
              "\n",
              "    .dataframe tbody tr th {\n",
              "        vertical-align: top;\n",
              "    }\n",
              "\n",
              "    .dataframe thead th {\n",
              "        text-align: right;\n",
              "    }\n",
              "</style>\n",
              "<table border=\"1\" class=\"dataframe\">\n",
              "  <thead>\n",
              "    <tr style=\"text-align: right;\">\n",
              "      <th></th>\n",
              "      <th>filename</th>\n",
              "      <th>label</th>\n",
              "    </tr>\n",
              "  </thead>\n",
              "  <tbody>\n",
              "    <tr>\n",
              "      <th>0</th>\n",
              "      <td>/content/data/Extracted_data/20210406/BfkSf0P6...</td>\n",
              "      <td>covid</td>\n",
              "    </tr>\n",
              "    <tr>\n",
              "      <th>1</th>\n",
              "      <td>/content/data/Extracted_data/20210406/ZIzrdWNQ...</td>\n",
              "      <td>covid</td>\n",
              "    </tr>\n",
              "    <tr>\n",
              "      <th>2</th>\n",
              "      <td>/content/data/Extracted_data/20210406/kAnUnZf9...</td>\n",
              "      <td>covid</td>\n",
              "    </tr>\n",
              "    <tr>\n",
              "      <th>3</th>\n",
              "      <td>/content/data/Extracted_data/20210406/IimA0GnO...</td>\n",
              "      <td>covid</td>\n",
              "    </tr>\n",
              "    <tr>\n",
              "      <th>4</th>\n",
              "      <td>/content/data/Extracted_data/20210406/6ZovArsh...</td>\n",
              "      <td>covid</td>\n",
              "    </tr>\n",
              "    <tr>\n",
              "      <th>...</th>\n",
              "      <td>...</td>\n",
              "      <td>...</td>\n",
              "    </tr>\n",
              "    <tr>\n",
              "      <th>387</th>\n",
              "      <td>/content/data/Extracted_data/20200820/LziLApJb...</td>\n",
              "      <td>non-covid</td>\n",
              "    </tr>\n",
              "    <tr>\n",
              "      <th>388</th>\n",
              "      <td>/content/data/Extracted_data/20200419/XlPcBLOU...</td>\n",
              "      <td>non-covid</td>\n",
              "    </tr>\n",
              "    <tr>\n",
              "      <th>389</th>\n",
              "      <td>/content/data/Extracted_data/20200814/AaGldp1b...</td>\n",
              "      <td>non-covid</td>\n",
              "    </tr>\n",
              "    <tr>\n",
              "      <th>390</th>\n",
              "      <td>/content/data/Extracted_data/20200814/zw0pYfsZ...</td>\n",
              "      <td>non-covid</td>\n",
              "    </tr>\n",
              "    <tr>\n",
              "      <th>391</th>\n",
              "      <td>/content/data/Extracted_data/20200814/5P3EfdsL...</td>\n",
              "      <td>non-covid</td>\n",
              "    </tr>\n",
              "  </tbody>\n",
              "</table>\n",
              "<p>392 rows × 2 columns</p>\n",
              "</div>"
            ],
            "text/plain": [
              "                                              filename      label\n",
              "0    /content/data/Extracted_data/20210406/BfkSf0P6...      covid\n",
              "1    /content/data/Extracted_data/20210406/ZIzrdWNQ...      covid\n",
              "2    /content/data/Extracted_data/20210406/kAnUnZf9...      covid\n",
              "3    /content/data/Extracted_data/20210406/IimA0GnO...      covid\n",
              "4    /content/data/Extracted_data/20210406/6ZovArsh...      covid\n",
              "..                                                 ...        ...\n",
              "387  /content/data/Extracted_data/20200820/LziLApJb...  non-covid\n",
              "388  /content/data/Extracted_data/20200419/XlPcBLOU...  non-covid\n",
              "389  /content/data/Extracted_data/20200814/AaGldp1b...  non-covid\n",
              "390  /content/data/Extracted_data/20200814/zw0pYfsZ...  non-covid\n",
              "391  /content/data/Extracted_data/20200814/5P3EfdsL...  non-covid\n",
              "\n",
              "[392 rows x 2 columns]"
            ]
          },
          "metadata": {
            "tags": []
          },
          "execution_count": 25
        }
      ]
    },
    {
      "cell_type": "code",
      "metadata": {
        "id": "GdE_Y7tYtCN3"
      },
      "source": [
        "labels = labels.sort_values('label')\n",
        "class_names = list(labels['label'].unique())\n",
        "\n",
        "train_images = '/content/content/Extracted'\n",
        "train_cat = '/train_'\n",
        "\n",
        "for i in class_names:\n",
        "    os.makedirs(os.path.join('train_', i))\n",
        "\n",
        "for c in class_names: \n",
        "    for i in list(labels[labels['label']==c]['filename']):\n",
        "        fn = i.split('/')[-2:]\n",
        "        i = '_'.join(fn)\n",
        "        i = i[:-3].replace(\".\", \"\") + '.png'\n",
        "        get_image = os.path.join('/content/content/Extracted', i) \n",
        "        move_image_to_cat = shutil.copy(get_image, 'train_/'+c)"
      ],
      "execution_count": 35,
      "outputs": []
    },
    {
      "cell_type": "code",
      "metadata": {
        "colab": {
          "base_uri": "https://localhost:8080/"
        },
        "id": "iDfOrrqg-oVP",
        "outputId": "69230fca-b3e4-4279-bbe4-acf3c3be05b2"
      },
      "source": [
        "labels['class'].value_counts()"
      ],
      "execution_count": 23,
      "outputs": [
        {
          "output_type": "execute_result",
          "data": {
            "text/plain": [
              "not_covid    151\n",
              "covid         19\n",
              "Name: class, dtype: int64"
            ]
          },
          "metadata": {
            "tags": []
          },
          "execution_count": 23
        }
      ]
    },
    {
      "cell_type": "code",
      "metadata": {
        "id": "2B4WhNSmA2NM"
      },
      "source": [
        "!zip -r -qq /content/coswara_spectrograms.zip /content/train_"
      ],
      "execution_count": 36,
      "outputs": []
    },
    {
      "cell_type": "code",
      "metadata": {
        "id": "lFg2x0-dBT70"
      },
      "source": [
        ""
      ],
      "execution_count": null,
      "outputs": []
    }
  ]
}