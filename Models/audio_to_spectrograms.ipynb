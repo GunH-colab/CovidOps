{
  "nbformat": 4,
  "nbformat_minor": 0,
  "metadata": {
    "colab": {
      "name": "audio_to_spectrograms.ipynb",
      "provenance": [],
      "toc_visible": true
    },
    "kernelspec": {
      "name": "python3",
      "display_name": "Python 3"
    }
  },
  "cells": [
    {
      "cell_type": "code",
      "metadata": {
        "id": "qUznEvho4FAP"
      },
      "source": [
        "!unzip -qq /content/drive/MyDrive/Data/covid_cough_database.zip"
      ],
      "execution_count": 1,
      "outputs": []
    },
    {
      "cell_type": "code",
      "metadata": {
        "id": "kcQ1rb96VwoV"
      },
      "source": [
        "import pandas as pd\n",
        "import librosa \n",
        "import matplotlib.pyplot as plt\n",
        "from tqdm import tqdm\n",
        "import warnings\n",
        "warnings.filterwarnings(\"ignore\")\n",
        "import os"
      ],
      "execution_count": 2,
      "outputs": []
    },
    {
      "cell_type": "markdown",
      "metadata": {
        "id": "1U4q9tTKjM3S"
      },
      "source": [
        "# Kaggle CCR"
      ]
    },
    {
      "cell_type": "code",
      "metadata": {
        "id": "NtFLWi4DVG3z"
      },
      "source": [
        "filenames = pd.read_csv('/content/cough_trial_extended.csv')"
      ],
      "execution_count": 3,
      "outputs": []
    },
    {
      "cell_type": "code",
      "metadata": {
        "colab": {
          "base_uri": "https://localhost:8080/",
          "height": 52
        },
        "id": "lfTFKSmBV7OE",
        "outputId": "8452031d-16b0-49b8-87a7-e8666fa1cfd0"
      },
      "source": [
        "cmap = plt.get_cmap('inferno')\n",
        "\n",
        "for i in tqdm(range(len(filenames))):\n",
        "    source = filenames['file_properties'][i]\n",
        "    filename = '/content/trial_covid/'+source\n",
        "    y, sr = librosa.load(filename, mono=True, duration=5)\n",
        "    plt.specgram(y, NFFT=2048, Fs=2, Fc=0, noverlap=128, cmap=cmap, sides='default', mode='default', scale='dB')\n",
        "    plt.axis('off')\n",
        "    plt.savefig(f'spectrograms_kaggleCCR/{source[:-3].replace(\".\", \"\")}.png')\n",
        "    plt.clf()"
      ],
      "execution_count": 5,
      "outputs": [
        {
          "output_type": "stream",
          "text": [
            "100%|██████████| 170/170 [00:29<00:00,  5.72it/s]\n"
          ],
          "name": "stderr"
        },
        {
          "output_type": "display_data",
          "data": {
            "text/plain": [
              "<Figure size 432x288 with 0 Axes>"
            ]
          },
          "metadata": {
            "tags": []
          }
        }
      ]
    },
    {
      "cell_type": "markdown",
      "metadata": {
        "id": "-FKK6ff_nIF5"
      },
      "source": [
        "#Virufy"
      ]
    },
    {
      "cell_type": "code",
      "metadata": {
        "colab": {
          "base_uri": "https://localhost:8080/",
          "height": 52
        },
        "id": "Gh2OWxpAlb0n",
        "outputId": "8aacb9d0-f8e4-4091-e314-1c93ec833c80"
      },
      "source": [
        "for filename in tqdm(os.listdir('/content/drive/MyDrive/Data/virufy-data-main/virufy-data-main/clinical/segmented/pos')[:-1]):\n",
        "    fullpath = os.path.join('/content/drive/MyDrive/Data/virufy-data-main/virufy-data-main/clinical/segmented/pos', filename)\n",
        "    y, sr = librosa.load(fullpath, mono=True, duration=5)\n",
        "    plt.specgram(y, NFFT=2048, Fs=2, Fc=0, noverlap=128, cmap=cmap, sides='default', mode='default', scale='dB')\n",
        "    plt.axis('off')\n",
        "    plt.savefig(f'spectrograms_virufy_pos/{filename[:-3].replace(\".\", \"\")}.png')\n",
        "    plt.clf()"
      ],
      "execution_count": 6,
      "outputs": [
        {
          "output_type": "stream",
          "text": [
            "100%|██████████| 48/48 [00:29<00:00,  1.64it/s]\n"
          ],
          "name": "stderr"
        },
        {
          "output_type": "display_data",
          "data": {
            "text/plain": [
              "<Figure size 432x288 with 0 Axes>"
            ]
          },
          "metadata": {
            "tags": []
          }
        }
      ]
    },
    {
      "cell_type": "code",
      "metadata": {
        "colab": {
          "base_uri": "https://localhost:8080/",
          "height": 52
        },
        "id": "OvIVKwnfltGQ",
        "outputId": "ed96c018-ce1a-40b7-82d6-84773174793b"
      },
      "source": [
        "import os\n",
        "for filename in tqdm(os.listdir('/content/drive/MyDrive/Data/virufy-data-main/virufy-data-main/clinical/segmented/neg')[:-1]):\n",
        "    fullpath = os.path.join('/content/drive/MyDrive/Data/virufy-data-main/virufy-data-main/clinical/segmented/neg', filename)\n",
        "    y, sr = librosa.load(fullpath, mono=True, duration=5)\n",
        "    plt.specgram(y, NFFT=2048, Fs=2, Fc=0, noverlap=128, cmap=cmap, sides='default', mode='default', scale='dB')\n",
        "    plt.axis('off')\n",
        "    plt.savefig(f'spectrograms_virufy_neg/{filename[:-3].replace(\".\", \"\")}.png')\n",
        "    plt.clf()"
      ],
      "execution_count": 7,
      "outputs": [
        {
          "output_type": "stream",
          "text": [
            "100%|██████████| 73/73 [00:43<00:00,  1.70it/s]\n"
          ],
          "name": "stderr"
        },
        {
          "output_type": "display_data",
          "data": {
            "text/plain": [
              "<Figure size 432x288 with 0 Axes>"
            ]
          },
          "metadata": {
            "tags": []
          }
        }
      ]
    },
    {
      "cell_type": "markdown",
      "metadata": {
        "id": "WJca-msywX65"
      },
      "source": [
        "#Coswara "
      ]
    },
    {
      "cell_type": "code",
      "metadata": {
        "id": "m5xYx69Xweet"
      },
      "source": [
        "import librosa \n",
        "import matplotlib.pyplot as plt\n",
        "from tqdm import tqdm\n",
        "import pandas as pd\n",
        "import numpy as np \n",
        "\n",
        "pre_proc = pd.read_csv('/content/Coswara_processed.csv')\n",
        "\n",
        "cmap = plt.get_cmap('inferno')\n",
        "\n",
        "for i in tqdm(range(len(pre_proc))):\n",
        "    source = pre_proc['filename'][i]\n",
        "    #filename = '/content/data/'+source\n",
        "    y, sr = librosa.load(source, mono=True, duration=5)\n",
        "    plt.specgram(y, NFFT=2048, Fs=2, Fc=0, noverlap=128, cmap=cmap, sides='default', mode='default', scale='dB')\n",
        "    plt.axis('off')\n",
        "    sc = source.split('/')[5:]\n",
        "    sc = \"_\".join(sc)\n",
        "    print(sc)\n",
        "    plt.savefig(f'Extracted/{sc[:-3].replace(\".\", \"\")}.png')\n",
        "    files.download(f'Extracted/{sc[:-3].replace(\".\", \"\")}.png')\n",
        "    plt.clf()"
      ],
      "execution_count": null,
      "outputs": []
    }
  ]
}