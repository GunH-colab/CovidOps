{
  "nbformat": 4,
  "nbformat_minor": 0,
  "metadata": {
    "colab": {
      "name": "migration_pytorch_keras.ipynb",
      "provenance": [],
      "authorship_tag": "ABX9TyMnKdhXhoQgpFQWUsYaOyB/"
    },
    "kernelspec": {
      "name": "python3",
      "display_name": "Python 3"
    },
    "language_info": {
      "name": "python"
    }
  },
  "cells": [
    {
      "cell_type": "code",
      "metadata": {
        "id": "El0ofjORgZ3O"
      },
      "source": [
        "import keras\n",
        "from tensorflow import keras\n",
        "from tensorflow.keras.layers import BatchNormalization\n",
        "from tensorflow.keras.layers import Conv2D\n",
        "from tensorflow.keras.layers import Conv2DTranspose\n",
        "from tensorflow.keras.layers import LeakyReLU\n",
        "from tensorflow.keras.layers import Activation\n",
        "from tensorflow.keras.layers import Flatten\n",
        "from tensorflow.keras.layers import Dense\n",
        "from tensorflow.keras.layers import Reshape\n",
        "from tensorflow.keras.layers import Input\n",
        "from tensorflow.keras.models import Model\n",
        "from tensorflow.keras import backend as K\n",
        "import pandas as pd\n",
        "import os\n",
        "import pandas as pd\n",
        "import numpy as np\n",
        "import librosa\n",
        "from sklearn.preprocessing import LabelEncoder, StandardScaler\n",
        "import torch\n",
        "import numpy as np\n",
        "from sklearn.model_selection import train_test_split"
      ],
      "execution_count": 15,
      "outputs": []
    },
    {
      "cell_type": "code",
      "metadata": {
        "colab": {
          "base_uri": "https://localhost:8080/"
        },
        "id": "nQ_Bcd4wjmJ2",
        "outputId": "b766a13f-045a-4163-aa04-5cf48dfafa11"
      },
      "source": [
        "df_features = pd.read_csv('/content/Tabular_pro.csv')\n",
        "\n",
        "X = np.array(df_features.iloc[:, 1:-1], dtype=np.float32)\n",
        "\n",
        "encoder = LabelEncoder()\n",
        "y = encoder.fit_transform(df_features['label'])\n",
        "print('classes:', encoder.classes_)\n",
        "\n",
        "X_train, X_test, y_train, y_test = train_test_split(X, y, test_size=0.2, random_state=42)\n",
        "\n",
        "# scale data\n",
        "scaler = StandardScaler()\n",
        "X_train = scaler.fit_transform(X_train)\n",
        "X_test = scaler.transform(X_test)\n",
        "\n",
        "print('X_train.shape:', X_train.shape)\n",
        "print('y_train.shape:', y_train.shape)"
      ],
      "execution_count": 16,
      "outputs": [
        {
          "output_type": "stream",
          "text": [
            "classes: ['covid' 'non-covid']\n",
            "X_train.shape: (546, 26)\n",
            "y_train.shape: (546,)\n"
          ],
          "name": "stdout"
        }
      ]
    },
    {
      "cell_type": "code",
      "metadata": {
        "colab": {
          "base_uri": "https://localhost:8080/"
        },
        "id": "BE8T3z9ahaAe",
        "outputId": "41826d36-2295-4c50-9860-eee50d676e29"
      },
      "source": [
        "## input layer\n",
        "input_layer = Input(shape=[26])\n",
        "L1 = Dense(512, activation='relu')(input_layer)\n",
        "L2 = Dense(256, activation='relu')(L1)\n",
        "L3 = Dense(128, activation='relu')(L2)\n",
        "L4 = Dense(64, activation='relu')(L3)\n",
        "L5 = Dense(10, activation='relu')(L4)\n",
        "## output layer\n",
        "output_layer  = Dense(1, activation='sigmoid')(L5)\n",
        "model = Model(input_layer, output_layer)\n",
        "model.compile(loss='binary_crossentropy', optimizer='adam', metrics=['accuracy'])\n",
        "model.summary()"
      ],
      "execution_count": 69,
      "outputs": [
        {
          "output_type": "stream",
          "text": [
            "Model: \"model_14\"\n",
            "_________________________________________________________________\n",
            "Layer (type)                 Output Shape              Param #   \n",
            "=================================================================\n",
            "input_16 (InputLayer)        [(None, 26)]              0         \n",
            "_________________________________________________________________\n",
            "dense_94 (Dense)             (None, 512)               13824     \n",
            "_________________________________________________________________\n",
            "dense_95 (Dense)             (None, 256)               131328    \n",
            "_________________________________________________________________\n",
            "dense_96 (Dense)             (None, 128)               32896     \n",
            "_________________________________________________________________\n",
            "dense_97 (Dense)             (None, 64)                8256      \n",
            "_________________________________________________________________\n",
            "dense_98 (Dense)             (None, 10)                650       \n",
            "_________________________________________________________________\n",
            "dense_99 (Dense)             (None, 1)                 11        \n",
            "=================================================================\n",
            "Total params: 186,965\n",
            "Trainable params: 186,965\n",
            "Non-trainable params: 0\n",
            "_________________________________________________________________\n"
          ],
          "name": "stdout"
        }
      ]
    },
    {
      "cell_type": "code",
      "metadata": {
        "id": "a-3qOFydmhXF"
      },
      "source": [
        "callbacks = [\n",
        "    keras.callbacks.ModelCheckpoint(\"save_at_{epoch}.h5\"),\n",
        "]"
      ],
      "execution_count": 70,
      "outputs": []
    },
    {
      "cell_type": "code",
      "metadata": {
        "colab": {
          "base_uri": "https://localhost:8080/"
        },
        "id": "4bXyEnZnilU8",
        "outputId": "70555b17-17e7-41ea-aec0-fddddb57bce0"
      },
      "source": [
        "model.fit(X_train, y_train, validation_data=(X_test, y_test), epochs = 50, batch_size=16, callbacks=callbacks)"
      ],
      "execution_count": 71,
      "outputs": [
        {
          "output_type": "stream",
          "text": [
            "Epoch 1/50\n",
            "35/35 [==============================] - 1s 9ms/step - loss: 0.6472 - accuracy: 0.6412 - val_loss: 0.5298 - val_accuracy: 0.7591\n",
            "Epoch 2/50\n",
            "35/35 [==============================] - 0s 5ms/step - loss: 0.4997 - accuracy: 0.7464 - val_loss: 0.5408 - val_accuracy: 0.7883\n",
            "Epoch 3/50\n",
            "35/35 [==============================] - 0s 5ms/step - loss: 0.3513 - accuracy: 0.8438 - val_loss: 0.4987 - val_accuracy: 0.7956\n",
            "Epoch 4/50\n",
            "35/35 [==============================] - 0s 5ms/step - loss: 0.3206 - accuracy: 0.8542 - val_loss: 0.5305 - val_accuracy: 0.8029\n",
            "Epoch 5/50\n",
            "35/35 [==============================] - 0s 5ms/step - loss: 0.2227 - accuracy: 0.9091 - val_loss: 0.5111 - val_accuracy: 0.8102\n",
            "Epoch 6/50\n",
            "35/35 [==============================] - 0s 4ms/step - loss: 0.1619 - accuracy: 0.9507 - val_loss: 0.6452 - val_accuracy: 0.8029\n",
            "Epoch 7/50\n",
            "35/35 [==============================] - 0s 5ms/step - loss: 0.1235 - accuracy: 0.9524 - val_loss: 0.5310 - val_accuracy: 0.8102\n",
            "Epoch 8/50\n",
            "35/35 [==============================] - 0s 5ms/step - loss: 0.1104 - accuracy: 0.9636 - val_loss: 0.5592 - val_accuracy: 0.8102\n",
            "Epoch 9/50\n",
            "35/35 [==============================] - 0s 5ms/step - loss: 0.0691 - accuracy: 0.9801 - val_loss: 0.7065 - val_accuracy: 0.8029\n",
            "Epoch 10/50\n",
            "35/35 [==============================] - 0s 5ms/step - loss: 0.0344 - accuracy: 0.9905 - val_loss: 0.9375 - val_accuracy: 0.8029\n",
            "Epoch 11/50\n",
            "35/35 [==============================] - 0s 5ms/step - loss: 0.0402 - accuracy: 0.9873 - val_loss: 0.8618 - val_accuracy: 0.8321\n",
            "Epoch 12/50\n",
            "35/35 [==============================] - 0s 5ms/step - loss: 0.0401 - accuracy: 0.9857 - val_loss: 0.8447 - val_accuracy: 0.8029\n",
            "Epoch 13/50\n",
            "35/35 [==============================] - 0s 5ms/step - loss: 0.0356 - accuracy: 0.9923 - val_loss: 0.8116 - val_accuracy: 0.8248\n",
            "Epoch 14/50\n",
            "35/35 [==============================] - 0s 5ms/step - loss: 0.0553 - accuracy: 0.9802 - val_loss: 0.8396 - val_accuracy: 0.8248\n",
            "Epoch 15/50\n",
            "35/35 [==============================] - 0s 5ms/step - loss: 0.1051 - accuracy: 0.9614 - val_loss: 0.9089 - val_accuracy: 0.7664\n",
            "Epoch 16/50\n",
            "35/35 [==============================] - 0s 4ms/step - loss: 0.2371 - accuracy: 0.8992 - val_loss: 0.4642 - val_accuracy: 0.8686\n",
            "Epoch 17/50\n",
            "35/35 [==============================] - 0s 5ms/step - loss: 0.0460 - accuracy: 0.9847 - val_loss: 0.7884 - val_accuracy: 0.8175\n",
            "Epoch 18/50\n",
            "35/35 [==============================] - 0s 5ms/step - loss: 0.0303 - accuracy: 0.9854 - val_loss: 0.9293 - val_accuracy: 0.8175\n",
            "Epoch 19/50\n",
            "35/35 [==============================] - 0s 5ms/step - loss: 0.0063 - accuracy: 1.0000 - val_loss: 1.0309 - val_accuracy: 0.8394\n",
            "Epoch 20/50\n",
            "35/35 [==============================] - 0s 5ms/step - loss: 0.0038 - accuracy: 1.0000 - val_loss: 1.1635 - val_accuracy: 0.8248\n",
            "Epoch 21/50\n",
            "35/35 [==============================] - 0s 5ms/step - loss: 0.0011 - accuracy: 1.0000 - val_loss: 1.2182 - val_accuracy: 0.8321\n",
            "Epoch 22/50\n",
            "35/35 [==============================] - 0s 4ms/step - loss: 4.5518e-04 - accuracy: 1.0000 - val_loss: 1.2754 - val_accuracy: 0.8321\n",
            "Epoch 23/50\n",
            "35/35 [==============================] - 0s 4ms/step - loss: 3.2412e-04 - accuracy: 1.0000 - val_loss: 1.3227 - val_accuracy: 0.8321\n",
            "Epoch 24/50\n",
            "35/35 [==============================] - 0s 4ms/step - loss: 2.5766e-04 - accuracy: 1.0000 - val_loss: 1.3613 - val_accuracy: 0.8321\n",
            "Epoch 25/50\n",
            "35/35 [==============================] - 0s 5ms/step - loss: 1.5349e-04 - accuracy: 1.0000 - val_loss: 1.3931 - val_accuracy: 0.8321\n",
            "Epoch 26/50\n",
            "35/35 [==============================] - 0s 5ms/step - loss: 1.4430e-04 - accuracy: 1.0000 - val_loss: 1.4242 - val_accuracy: 0.8321\n",
            "Epoch 27/50\n",
            "35/35 [==============================] - 0s 5ms/step - loss: 1.1361e-04 - accuracy: 1.0000 - val_loss: 1.4513 - val_accuracy: 0.8248\n",
            "Epoch 28/50\n",
            "35/35 [==============================] - 0s 5ms/step - loss: 9.9101e-05 - accuracy: 1.0000 - val_loss: 1.4777 - val_accuracy: 0.8248\n",
            "Epoch 29/50\n",
            "35/35 [==============================] - 0s 5ms/step - loss: 1.1089e-04 - accuracy: 1.0000 - val_loss: 1.5044 - val_accuracy: 0.8248\n",
            "Epoch 30/50\n",
            "35/35 [==============================] - 0s 4ms/step - loss: 8.2945e-05 - accuracy: 1.0000 - val_loss: 1.5260 - val_accuracy: 0.8248\n",
            "Epoch 31/50\n",
            "35/35 [==============================] - 0s 5ms/step - loss: 6.9241e-05 - accuracy: 1.0000 - val_loss: 1.5474 - val_accuracy: 0.8248\n",
            "Epoch 32/50\n",
            "35/35 [==============================] - 0s 4ms/step - loss: 5.6402e-05 - accuracy: 1.0000 - val_loss: 1.5689 - val_accuracy: 0.8248\n",
            "Epoch 33/50\n",
            "35/35 [==============================] - 0s 5ms/step - loss: 4.6282e-05 - accuracy: 1.0000 - val_loss: 1.5894 - val_accuracy: 0.8248\n",
            "Epoch 34/50\n",
            "35/35 [==============================] - 0s 5ms/step - loss: 5.8460e-05 - accuracy: 1.0000 - val_loss: 1.6113 - val_accuracy: 0.8248\n",
            "Epoch 35/50\n",
            "35/35 [==============================] - 0s 5ms/step - loss: 4.7791e-05 - accuracy: 1.0000 - val_loss: 1.6287 - val_accuracy: 0.8248\n",
            "Epoch 36/50\n",
            "35/35 [==============================] - 0s 5ms/step - loss: 4.9220e-05 - accuracy: 1.0000 - val_loss: 1.6472 - val_accuracy: 0.8248\n",
            "Epoch 37/50\n",
            "35/35 [==============================] - 0s 5ms/step - loss: 3.2192e-05 - accuracy: 1.0000 - val_loss: 1.6640 - val_accuracy: 0.8175\n",
            "Epoch 38/50\n",
            "35/35 [==============================] - 0s 5ms/step - loss: 3.1340e-05 - accuracy: 1.0000 - val_loss: 1.6803 - val_accuracy: 0.8175\n",
            "Epoch 39/50\n",
            "35/35 [==============================] - 0s 5ms/step - loss: 3.5948e-05 - accuracy: 1.0000 - val_loss: 1.6961 - val_accuracy: 0.8175\n",
            "Epoch 40/50\n",
            "35/35 [==============================] - 0s 5ms/step - loss: 2.7429e-05 - accuracy: 1.0000 - val_loss: 1.7121 - val_accuracy: 0.8175\n",
            "Epoch 41/50\n",
            "35/35 [==============================] - 0s 5ms/step - loss: 2.6401e-05 - accuracy: 1.0000 - val_loss: 1.7276 - val_accuracy: 0.8175\n",
            "Epoch 42/50\n",
            "35/35 [==============================] - 0s 5ms/step - loss: 2.8456e-05 - accuracy: 1.0000 - val_loss: 1.7414 - val_accuracy: 0.8175\n",
            "Epoch 43/50\n",
            "35/35 [==============================] - 0s 5ms/step - loss: 2.3562e-05 - accuracy: 1.0000 - val_loss: 1.7551 - val_accuracy: 0.8175\n",
            "Epoch 44/50\n",
            "35/35 [==============================] - 0s 5ms/step - loss: 1.8798e-05 - accuracy: 1.0000 - val_loss: 1.7693 - val_accuracy: 0.8175\n",
            "Epoch 45/50\n",
            "35/35 [==============================] - 0s 4ms/step - loss: 1.3364e-05 - accuracy: 1.0000 - val_loss: 1.7823 - val_accuracy: 0.8175\n",
            "Epoch 46/50\n",
            "35/35 [==============================] - 0s 5ms/step - loss: 1.9400e-05 - accuracy: 1.0000 - val_loss: 1.7986 - val_accuracy: 0.8175\n",
            "Epoch 47/50\n",
            "35/35 [==============================] - 0s 4ms/step - loss: 1.5447e-05 - accuracy: 1.0000 - val_loss: 1.8101 - val_accuracy: 0.8175\n",
            "Epoch 48/50\n",
            "35/35 [==============================] - 0s 5ms/step - loss: 1.5315e-05 - accuracy: 1.0000 - val_loss: 1.8233 - val_accuracy: 0.8175\n",
            "Epoch 49/50\n",
            "35/35 [==============================] - 0s 5ms/step - loss: 1.1579e-05 - accuracy: 1.0000 - val_loss: 1.8343 - val_accuracy: 0.8175\n",
            "Epoch 50/50\n",
            "35/35 [==============================] - 0s 5ms/step - loss: 1.1256e-05 - accuracy: 1.0000 - val_loss: 1.8451 - val_accuracy: 0.8175\n"
          ],
          "name": "stdout"
        },
        {
          "output_type": "execute_result",
          "data": {
            "text/plain": [
              "<tensorflow.python.keras.callbacks.History at 0x7f81e4d4b210>"
            ]
          },
          "metadata": {
            "tags": []
          },
          "execution_count": 71
        }
      ]
    },
    {
      "cell_type": "code",
      "metadata": {
        "id": "3-OhTRhnke-X"
      },
      "source": [
        "model = keras.models.load_model('/content/save_at_16.h5')"
      ],
      "execution_count": 79,
      "outputs": []
    },
    {
      "cell_type": "code",
      "metadata": {
        "colab": {
          "base_uri": "https://localhost:8080/"
        },
        "id": "GK6kuJd0m65-",
        "outputId": "696ffad7-5b2c-4e36-a54b-71398470560d"
      },
      "source": [
        "model.evaluate(X_test, y_test)"
      ],
      "execution_count": 80,
      "outputs": [
        {
          "output_type": "stream",
          "text": [
            "5/5 [==============================] - 0s 3ms/step - loss: 0.4642 - accuracy: 0.8686\n"
          ],
          "name": "stdout"
        },
        {
          "output_type": "execute_result",
          "data": {
            "text/plain": [
              "[0.4642276167869568, 0.8686131238937378]"
            ]
          },
          "metadata": {
            "tags": []
          },
          "execution_count": 80
        }
      ]
    },
    {
      "cell_type": "code",
      "metadata": {
        "id": "Y0E8-s-Hm_NF"
      },
      "source": [
        "def plot_confusion_matrix(targets, predictions, classes):\n",
        "    # calculate normalized confusion matrix\n",
        "    cm = confusion_matrix(targets, predictions)\n",
        "    cm = cm.astype(np.float) / cm.sum(axis=1)[:, np.newaxis]\n",
        "\n",
        "    plt.imshow(cm, interpolation='nearest', cmap=plt.cm.Blues)\n",
        "    plt.title('Confusion Matrix')\n",
        "    plt.colorbar()\n",
        "    tick_marks = np.arange(len(classes))\n",
        "    plt.xticks(tick_marks, classes, rotation=45)\n",
        "    plt.yticks(tick_marks, classes)\n",
        "\n",
        "    thresh = cm.max() / 2.\n",
        "    for i, j in itertools.product(range(cm.shape[0]), range(cm.shape[1])):\n",
        "        plt.text(j, i, format(cm[i, j], '.2f'), horizontalalignment='center', color='white' if cm[i, j] > thresh else 'black')\n",
        "\n",
        "    plt.tight_layout()\n",
        "    plt.ylabel('True label')\n",
        "    plt.xlabel('Predicted label')"
      ],
      "execution_count": 74,
      "outputs": []
    },
    {
      "cell_type": "code",
      "metadata": {
        "id": "EqI31F2ZoQ11"
      },
      "source": [
        "from sklearn.metrics import confusion_matrix\n",
        "import matplotlib.pyplot as plt\n",
        "import itertools"
      ],
      "execution_count": 75,
      "outputs": []
    },
    {
      "cell_type": "code",
      "metadata": {
        "colab": {
          "base_uri": "https://localhost:8080/",
          "height": 311
        },
        "id": "pHOEqjOqoEnV",
        "outputId": "88dfb1af-5906-45f8-fed8-31d5e4530fc7"
      },
      "source": [
        "plot_confusion_matrix(y_test, np.round(model.predict(X_test).reshape(1, 137)[0]), encoder.classes_)"
      ],
      "execution_count": 76,
      "outputs": [
        {
          "output_type": "display_data",
          "data": {
            "image/png": "[encoded data removed]",
            "text/plain": [
              "<Figure size 432x288 with 2 Axes>"
            ]
          },
          "metadata": {
            "tags": [],
            "needs_background": "light"
          }
        }
      ]
    },
    {
      "cell_type": "code",
      "metadata": {
        "id": "ei47XAK4o1MG"
      },
      "source": [
        ""
      ],
      "execution_count": null,
      "outputs": []
    }
  ]
}