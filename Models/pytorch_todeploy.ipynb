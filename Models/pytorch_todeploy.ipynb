{
  "nbformat": 4,
  "nbformat_minor": 0,
  "metadata": {
    "colab": {
      "name": "pytorch_todeploy.ipynb",
      "provenance": [],
      "authorship_tag": "ABX9TyMd0gLZa0rhwiF204wCVrHJ"
    },
    "kernelspec": {
      "name": "python3",
      "display_name": "Python 3"
    },
    "language_info": {
      "name": "python"
    }
  },
  "cells": [
    {
      "cell_type": "code",
      "metadata": {
        "id": "GdTQHvWoSo7e"
      },
      "source": [
        "import os\n",
        "import pandas as pd\n",
        "import numpy as np\n",
        "import librosa\n",
        "from sklearn.preprocessing import LabelEncoder, StandardScaler\n",
        "import torch"
      ],
      "execution_count": 1,
      "outputs": []
    },
    {
      "cell_type": "code",
      "metadata": {
        "id": "fQvxi6vtYnkj"
      },
      "source": [
        "class_names = ['Covid', 'Non-Covid']"
      ],
      "execution_count": 2,
      "outputs": []
    },
    {
      "cell_type": "code",
      "metadata": {
        "id": "yqrWOK-mXmnO"
      },
      "source": [
        "class CoughNet(torch.nn.Module):\n",
        "    def __init__(self, input_size):\n",
        "        super(CoughNet, self).__init__()\n",
        "        self.l1 = torch.nn.Linear(input_size, 512)\n",
        "        self.l2 = torch.nn.Linear(512, 256)\n",
        "        self.l3 = torch.nn.Linear(256, 128)\n",
        "        self.l4 = torch.nn.Linear(128, 64)\n",
        "        self.l5 = torch.nn.Linear(64, 10)\n",
        "        self.l6 = torch.nn.Linear(10, 2)\n",
        "\n",
        "    def forward(self, x):\n",
        "        x = torch.relu(self.l1(x))\n",
        "        x = torch.relu(self.l2(x))\n",
        "        x = torch.relu(self.l3(x))\n",
        "        x = torch.relu(self.l4(x))\n",
        "        x = torch.relu(self.l5(x))\n",
        "        x = self.l6(x)\n",
        "        return x\n",
        "\n",
        "def preproces(fn_wav):\n",
        "    y, sr = librosa.load(fn_wav, mono=True, duration=5)\n",
        "    chroma_stft = librosa.feature.chroma_stft(y=y, sr=sr)\n",
        "    rmse = librosa.feature.rms(y=y)\n",
        "    spectral_centroid = librosa.feature.spectral_centroid(y=y, sr=sr)\n",
        "    spectral_bandwidth = librosa.feature.spectral_bandwidth(y=y, sr=sr)\n",
        "    rolloff = librosa.feature.spectral_rolloff(y=y, sr=sr)\n",
        "    zcr = librosa.feature.zero_crossing_rate(y)\n",
        "    mfcc = librosa.feature.mfcc(y=y, sr=sr)\n",
        "    \n",
        "    feature_row = {        \n",
        "        'chroma_stft': np.mean(chroma_stft),\n",
        "        'rmse': np.mean(rmse),\n",
        "        'spectral_centroid': np.mean(spectral_centroid),\n",
        "        'spectral_bandwidth': np.mean(spectral_bandwidth),\n",
        "        'rolloff': np.mean(rolloff),\n",
        "        'zero_crossing_rate': np.mean(zcr),        \n",
        "    }\n",
        "    for i, c in enumerate(mfcc):\n",
        "        feature_row[f'mfcc{i+1}'] = np.mean(c)\n",
        "\n",
        "    return feature_row"
      ],
      "execution_count": 3,
      "outputs": []
    },
    {
      "cell_type": "code",
      "metadata": {
        "id": "WiP1m0k3XxGk"
      },
      "source": [
        "fn_wav_pos = '/content/pos-0421-086-cough-m-65-3.mp3' # positive example"
      ],
      "execution_count": 4,
      "outputs": []
    },
    {
      "cell_type": "code",
      "metadata": {
        "colab": {
          "base_uri": "https://localhost:8080/"
        },
        "id": "uLqBseKbYFyL",
        "outputId": "3a4be0a2-8009-4d96-ce98-18e11d0f9cee"
      },
      "source": [
        "# load model from checkpoint\n",
        "loaded_checkpoint = torch.load('/content/checkpoint_91_79.pth')\n",
        "\n",
        "hparams = loaded_checkpoint['hparams']\n",
        "scaler = loaded_checkpoint['scaler']\n",
        "encoder = loaded_checkpoint['encoder']\n",
        "\n",
        "model = CoughNet(len(hparams['features']))\n",
        "model.eval()\n",
        "model.load_state_dict(loaded_checkpoint['model_state'])\n",
        "\n",
        "# create input features\n",
        "df_features = pd.DataFrame(columns=hparams['features'])\n",
        "df_features = df_features.append(preproces(fn_wav_pos), ignore_index=True)\n",
        "X = np.array(df_features[hparams['features']], dtype=np.float32)\n",
        "X = torch.Tensor(scaler.transform(X))\n",
        "\n",
        "outputs = torch.softmax(model(X), 1)\n",
        "predictions = torch.argmax(outputs.data, 1)\n",
        "\n",
        "# print result\n",
        "print(f'model outputs {outputs[0].detach().numpy()} which predicts the class {encoder.classes_[predictions]}!')"
      ],
      "execution_count": 5,
      "outputs": [
        {
          "output_type": "stream",
          "text": [
            "/usr/local/lib/python3.7/dist-packages/librosa/core/audio.py:162: UserWarning: PySoundFile failed. Trying audioread instead.\n",
            "  warnings.warn(\"PySoundFile failed. Trying audioread instead.\")\n"
          ],
          "name": "stderr"
        },
        {
          "output_type": "stream",
          "text": [
            "model outputs [9.9987197e-01 1.2801368e-04] which predicts the class covid!\n"
          ],
          "name": "stdout"
        }
      ]
    },
    {
      "cell_type": "code",
      "metadata": {
        "colab": {
          "base_uri": "https://localhost:8080/"
        },
        "id": "_UY0E8VnYl6g",
        "outputId": "6a41c7ac-9ff0-4372-9a5e-d2f084e03884"
      },
      "source": [
        "#final\n",
        "predicted = class_names[(np.argmax(outputs[0].detach().numpy()))]\n",
        "confidence = np.max(outputs[0].detach().numpy())\n",
        "\n",
        "print('Result: {}\\nConfidence: {}'.format(predicted, confidence))"
      ],
      "execution_count": 6,
      "outputs": [
        {
          "output_type": "stream",
          "text": [
            "Result: Covid\n",
            "Confidence: 0.9998719692230225\n"
          ],
          "name": "stdout"
        }
      ]
    }
  ]
}