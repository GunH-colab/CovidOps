{
  "nbformat": 4,
  "nbformat_minor": 0,
  "metadata": {
    "colab": {
      "name": "inference_and_conversion_tabular_audio.ipynb",
      "provenance": [],
      "authorship_tag": "ABX9TyM4YNz4ZEmJL95L35sdJPK3"
    },
    "kernelspec": {
      "name": "python3",
      "display_name": "Python 3"
    },
    "language_info": {
      "name": "python"
    }
  },
  "cells": [
    {
      "cell_type": "code",
      "metadata": {
        "id": "NrBehlvoVL-o"
      },
      "source": [
        "# required libraries\n",
        "import pandas as pd\n",
        "import numpy as np\n",
        "import librosa\n",
        "from joblib import dump, load\n",
        "import keras"
      ],
      "execution_count": 3,
      "outputs": []
    },
    {
      "cell_type": "code",
      "metadata": {
        "id": "i7ILRUURVk9B"
      },
      "source": [
        "# loading normalizer\n",
        "scaler = load('/content/std_scaler.bin')\n",
        "\n",
        "# loading preprocessor function\n",
        "def preprocess(fn_wav):\n",
        "    y, sr = librosa.load(fn_wav, mono=True, duration=5)\n",
        "    chroma_stft = librosa.feature.chroma_stft(y=y, sr=sr)\n",
        "    rmse = librosa.feature.rms(y=y)\n",
        "    spectral_centroid = librosa.feature.spectral_centroid(y=y, sr=sr)\n",
        "    spectral_bandwidth = librosa.feature.spectral_bandwidth(y=y, sr=sr)\n",
        "    rolloff = librosa.feature.spectral_rolloff(y=y, sr=sr)\n",
        "    zcr = librosa.feature.zero_crossing_rate(y)\n",
        "    mfcc = librosa.feature.mfcc(y=y, sr=sr)\n",
        "    \n",
        "    feature_row = {        \n",
        "        'chroma_stft': np.mean(chroma_stft),\n",
        "        'rmse': np.mean(rmse),\n",
        "        'spectral_centroid': np.mean(spectral_centroid),\n",
        "        'spectral_bandwidth': np.mean(spectral_bandwidth),\n",
        "        'rolloff': np.mean(rolloff),\n",
        "        'zero_crossing_rate': np.mean(zcr),        \n",
        "    }\n",
        "    for i, c in enumerate(mfcc):\n",
        "        feature_row[f'mfcc{i+1}'] = np.mean(c)\n",
        "\n",
        "    return feature_row"
      ],
      "execution_count": 4,
      "outputs": []
    },
    {
      "cell_type": "code",
      "metadata": {
        "id": "l1kUm79hYFJI"
      },
      "source": [
        "#Features to be extracted\n",
        "features =  [\n",
        "                'chroma_stft', 'rmse', 'spectral_centroid', 'spectral_bandwidth', 'rolloff', 'zero_crossing_rate',\n",
        "                'mfcc1', 'mfcc2', 'mfcc3', 'mfcc4', 'mfcc5', 'mfcc6', 'mfcc7', 'mfcc8', 'mfcc9', 'mfcc10', \n",
        "                'mfcc11', 'mfcc12', 'mfcc13', 'mfcc14', 'mfcc15', 'mfcc16', 'mfcc17', 'mfcc18', 'mfcc19', 'mfcc20'\n",
        "            ]\n",
        "\n",
        "class_names = ['Covid', 'Non-Covid']"
      ],
      "execution_count": 5,
      "outputs": []
    },
    {
      "cell_type": "code",
      "metadata": {
        "colab": {
          "base_uri": "https://localhost:8080/"
        },
        "id": "ow3wAWgAXF0g",
        "outputId": "e697c511-4d88-469d-a4b5-fb514b92e9ee"
      },
      "source": [
        "fn_wav_pos = '/content/pos-0421-084-cough-m-50-4.mp3' # positive example\n",
        "df = pd.DataFrame(columns = features)\n",
        "df = df.append(preprocess(fn_wav_pos), ignore_index = True)"
      ],
      "execution_count": 6,
      "outputs": [
        {
          "output_type": "stream",
          "text": [
            "/usr/local/lib/python3.7/dist-packages/librosa/core/audio.py:162: UserWarning: PySoundFile failed. Trying audioread instead.\n",
            "  warnings.warn(\"PySoundFile failed. Trying audioread instead.\")\n"
          ],
          "name": "stderr"
        }
      ]
    },
    {
      "cell_type": "code",
      "metadata": {
        "colab": {
          "base_uri": "https://localhost:8080/"
        },
        "id": "52U8jcYIXNB5",
        "outputId": "28d16f48-39ff-43f1-ac45-718727e68e0d"
      },
      "source": [
        "X_test = scaler.transform(df)\n",
        "X_test"
      ],
      "execution_count": 7,
      "outputs": [
        {
          "output_type": "execute_result",
          "data": {
            "text/plain": [
              "array([[-0.79976089,  0.09133042, -0.93914436, -0.74289653, -0.82792065,\n",
              "        -1.00167803,  0.08233783, -0.14509999,  0.13946402,  0.29447243,\n",
              "         0.17638311, -0.3114036 , -0.59769858, -0.36673527, -1.21149372,\n",
              "         0.47812642,  1.80836824, -0.74647968,  0.46772948, -0.53344665,\n",
              "         1.18344649,  0.55849719, -0.75789379,  0.19436788, -0.51917186,\n",
              "        -1.13911157]])"
            ]
          },
          "metadata": {
            "tags": []
          },
          "execution_count": 7
        }
      ]
    },
    {
      "cell_type": "code",
      "metadata": {
        "colab": {
          "base_uri": "https://localhost:8080/"
        },
        "id": "3kyl5dNrXqNp",
        "outputId": "db993f37-fda9-4a20-c7b0-d070c0c9aa8b"
      },
      "source": [
        "model = keras.models.load_model('/content/save_at_16.h5')\n",
        "pred = model.predict(X_test)[0]\n",
        "\n",
        "#final\n",
        "predicted = class_names[int(np.round(pred)[0])]\n",
        "confidence = pred[0]\n",
        "print('Result: {}\\nConfidence: {}'.format(predicted, max(1 - confidence, confidence)))"
      ],
      "execution_count": 9,
      "outputs": [
        {
          "output_type": "stream",
          "text": [
            "Result: Covid\n",
            "Confidence: 0.9998960817902116\n"
          ],
          "name": "stdout"
        }
      ]
    },
    {
      "cell_type": "markdown",
      "metadata": {
        "id": "__NFkjnelLKn"
      },
      "source": [
        "# Converting the model to tflite format"
      ]
    },
    {
      "cell_type": "code",
      "metadata": {
        "colab": {
          "base_uri": "https://localhost:8080/"
        },
        "id": "kQp-obQuY16x",
        "outputId": "f3a883bd-885a-44d0-e0e6-53bd89143bdc"
      },
      "source": [
        "import tensorflow as tf\n",
        "converter = tf.compat.v1.lite.TFLiteConverter.from_keras_model_file('/content/save_at_16.h5') # path to the SavedModel directory\n",
        "tflite_model = converter.convert()"
      ],
      "execution_count": 10,
      "outputs": [
        {
          "output_type": "stream",
          "text": [
            "/usr/local/lib/python3.7/dist-packages/tensorflow/python/keras/backend.py:434: UserWarning: `tf.keras.backend.set_learning_phase` is deprecated and will be removed after 2020-10-11. To update it, simply pass a True/False value to the `training` argument of the `__call__` method of your layer or model.\n",
            "  warnings.warn('`tf.keras.backend.set_learning_phase` is deprecated and '\n"
          ],
          "name": "stderr"
        },
        {
          "output_type": "stream",
          "text": [
            "INFO:tensorflow:Assets written to: /tmp/tmpps92b72w/assets\n",
            "WARNING:tensorflow:From /usr/local/lib/python3.7/dist-packages/tensorflow/lite/python/convert_saved_model.py:60: load (from tensorflow.python.saved_model.loader_impl) is deprecated and will be removed in a future version.\n",
            "Instructions for updating:\n",
            "This function will only be available through the v1 compatibility library as tf.compat.v1.saved_model.loader.load or tf.compat.v1.saved_model.load. There will be a new function for importing SavedModels in Tensorflow 2.0.\n",
            "INFO:tensorflow:Restoring parameters from /tmp/tmpps92b72w/variables/variables\n",
            "INFO:tensorflow:The given SavedModel MetaGraphDef contains SignatureDefs with the following keys: {'serving_default', '__saved_model_init_op'}\n",
            "INFO:tensorflow:input tensors info: \n",
            "INFO:tensorflow:Tensor's key in saved_model's tensor_map: input_16\n",
            "INFO:tensorflow: tensor name: serving_default_input_16:0, shape: (-1, 26), type: DT_FLOAT\n",
            "INFO:tensorflow:output tensors info: \n",
            "INFO:tensorflow:Tensor's key in saved_model's tensor_map: dense_99\n",
            "INFO:tensorflow: tensor name: StatefulPartitionedCall:0, shape: (-1, 1), type: DT_FLOAT\n",
            "INFO:tensorflow:Restoring parameters from /tmp/tmpps92b72w/variables/variables\n",
            "WARNING:tensorflow:From /usr/local/lib/python3.7/dist-packages/tensorflow/lite/python/util.py:327: convert_variables_to_constants (from tensorflow.python.framework.graph_util_impl) is deprecated and will be removed in a future version.\n",
            "Instructions for updating:\n",
            "Use `tf.compat.v1.graph_util.convert_variables_to_constants`\n",
            "WARNING:tensorflow:From /usr/local/lib/python3.7/dist-packages/tensorflow/python/framework/convert_to_constants.py:856: extract_sub_graph (from tensorflow.python.framework.graph_util_impl) is deprecated and will be removed in a future version.\n",
            "Instructions for updating:\n",
            "Use `tf.compat.v1.graph_util.extract_sub_graph`\n"
          ],
          "name": "stdout"
        }
      ]
    },
    {
      "cell_type": "code",
      "metadata": {
        "colab": {
          "base_uri": "https://localhost:8080/"
        },
        "id": "RRYYl80Ui7Xo",
        "outputId": "bc96042d-40df-4513-c451-9753e1de01a2"
      },
      "source": [
        "# saving the converted model\n",
        "open('model_tflite_tabular_audio.tflite', \"wb\").write(tflite_model)"
      ],
      "execution_count": 11,
      "outputs": [
        {
          "output_type": "execute_result",
          "data": {
            "text/plain": [
              "750792"
            ]
          },
          "metadata": {
            "tags": []
          },
          "execution_count": 11
        }
      ]
    },
    {
      "cell_type": "markdown",
      "metadata": {
        "id": "FfQRV-McmKBt"
      },
      "source": [
        "# TFLite Inference"
      ]
    },
    {
      "cell_type": "code",
      "metadata": {
        "id": "g71EAVZPjQ3_"
      },
      "source": [
        "interpreter = tf.lite.Interpreter(model_content=tflite_model)\n",
        "interpreter.allocate_tensors()\n",
        "\n",
        "input_details = interpreter.get_input_details()\n",
        "output_details = interpreter.get_output_details()"
      ],
      "execution_count": 12,
      "outputs": []
    },
    {
      "cell_type": "code",
      "metadata": {
        "colab": {
          "base_uri": "https://localhost:8080/"
        },
        "id": "YZW401S7jsog",
        "outputId": "7ca31f7b-d70a-4788-af64-04e410491fec"
      },
      "source": [
        "fn_wav_pos = '/content/pos-0421-084-cough-m-50-4.mp3' # positive example\n",
        "df = pd.DataFrame(columns = features)\n",
        "df = df.append(preprocess(fn_wav_pos), ignore_index = True)\n",
        "X_test = scaler.transform(df)"
      ],
      "execution_count": 13,
      "outputs": [
        {
          "output_type": "stream",
          "text": [
            "/usr/local/lib/python3.7/dist-packages/librosa/core/audio.py:162: UserWarning: PySoundFile failed. Trying audioread instead.\n",
            "  warnings.warn(\"PySoundFile failed. Trying audioread instead.\")\n"
          ],
          "name": "stderr"
        }
      ]
    },
    {
      "cell_type": "code",
      "metadata": {
        "colab": {
          "base_uri": "https://localhost:8080/"
        },
        "id": "jNpcIaUBkBaW",
        "outputId": "bf475c60-99d8-4f49-9391-d0a99b0f0298"
      },
      "source": [
        "input_shape = input_details[0]['shape']\n",
        "input_data = np.array(X_test, dtype=np.float32)\n",
        "interpreter.set_tensor(input_details[0]['index'], input_data)\n",
        "interpreter.invoke()\n",
        "output_data = interpreter.get_tensor(output_details[0]['index'])\n",
        "\n",
        "#final\n",
        "predicted = class_names[int(np.round(output_data[0][0]))]\n",
        "confidence = output_data[0][0]\n",
        "print('Result: {}\\nConfidence: {}'.format(predicted, max(1 - confidence, confidence)))"
      ],
      "execution_count": 14,
      "outputs": [
        {
          "output_type": "stream",
          "text": [
            "Result: Covid\n",
            "Confidence: 0.9998960817902116\n"
          ],
          "name": "stdout"
        }
      ]
    }
  ]
}